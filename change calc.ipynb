{
 "cells": [
  {
   "cell_type": "code",
   "execution_count": 1,
   "metadata": {},
   "outputs": [],
   "source": [
    "# Asking the user to enter the charge for food\n",
    "charge_for_food=float(input('Enter the amount charged for food:'))\n",
    "# calculates 18% tip                    \n",
    "tip_charged=0.18*charge_for_food\n",
    "#calculates the sales tax                     \n",
    "sales_tax=charge_for_food*0.07\n",
    "# calculates the total amount \n",
    "grand_total=charge_for_food+tip_charged+sales_tax\n",
    "\n",
    "print(f'The the tip charged is : ${tip_charged:.2f}\\nThe sales tax is : ${sales_tax:.2f}\\nThe grand total is : ${grand_total:.2f}')\n"
   ]
  }
 ],
 "metadata": {
  "kernelspec": {
   "display_name": ".venv",
   "language": "python",
   "name": "python3"
  },
  "language_info": {
   "codemirror_mode": {
    "name": "ipython",
    "version": 3
   },
   "file_extension": ".py",
   "mimetype": "text/x-python",
   "name": "python",
   "nbconvert_exporter": "python",
   "pygments_lexer": "ipython3",
   "version": "3.10.9"
  },
  "orig_nbformat": 4
 },
 "nbformat": 4,
 "nbformat_minor": 2
}
